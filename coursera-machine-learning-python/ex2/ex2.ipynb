{
 "cells": [
  {
   "cell_type": "markdown",
   "metadata": {},
   "source": [
    "# Exercise 2-1: Logistic Regression"
   ]
  },
  {
   "cell_type": "markdown",
   "metadata": {},
   "source": [
    "In this exercise, we will implement logistic regression and apply it to two different datasets. "
   ]
  },
  {
   "cell_type": "markdown",
   "metadata": {},
   "source": [
    "## Load Data"
   ]
  },
  {
   "cell_type": "markdown",
   "metadata": {},
   "source": [
    "In `ex2data1.txt`, the first two columns contains the exam scores and the third column contains the label."
   ]
  },
  {
   "cell_type": "code",
   "execution_count": 5,
   "metadata": {
    "collapsed": true
   },
   "outputs": [
    {
     "data": {
      "text/plain": [
       "array([0., 0., 1., 1., 0., 1., 1., 1., 1.])"
      ]
     },
     "execution_count": 5,
     "metadata": {},
     "output_type": "execute_result"
    }
   ],
   "source": [
    "import numpy as np\n",
    "\n",
    "\n",
    "data = np.loadtxt(open(\"ex2data1.txt\", \"r\"), delimiter=\",\")\n",
    "X = data[:, 0:2]\n",
    "y = data[:, 2]"
   ]
  },
  {
   "cell_type": "markdown",
   "metadata": {},
   "source": [
    "## Part 1: Plotting"
   ]
  },
  {
   "cell_type": "markdown",
   "metadata": {},
   "source": [
    "The `plot_data()` plots the given data points X and y."
   ]
  },
  {
   "cell_type": "code",
   "execution_count": 6,
   "metadata": {
    "collapsed": true
   },
   "outputs": [],
   "source": [
    "import matplotlib.pyplot as plt\n",
    "\n",
    "\n",
    "def plot_data(X, y):\n",
    "    \"\"\"\n",
    "    Plots the data points X and y.\n",
    "\n",
    "    Parameters\n",
    "    ----------\n",
    "    X : array-like, shape (n_samples, 2)\n",
    "        Data on x axis.\n",
    "    y : array-like, shape (n_samples,)\n",
    "        Data on y axis.\n",
    "    \"\"\"\n",
    "    pos = np.argwhere(y == 1)\n",
    "    neg = np.argwhere(y == 0)\n",
    "\n",
    "    plt.plot(X[pos, 0], X[pos, 1], linestyle='', marker='+', color='k')\n",
    "    plt.plot(X[neg, 0], X[neg, 1], linestyle='', marker='o', color='y')"
   ]
  },
  {
   "cell_type": "markdown",
   "metadata": {},
   "source": [
    "Plot the dataset:"
   ]
  },
  {
   "cell_type": "code",
   "execution_count": 8,
   "metadata": {
    "collapsed": false
   },
   "outputs": [
    {
     "data": {
      "image/png": "[encoded data removed]",
      "text/plain": [
       "<Figure size 640x480 with 1 Axes>"
      ]
     },
     "metadata": {},
     "output_type": "display_data"
    }
   ],
   "source": [
    "plt.figure()\n",
    "plot_data(X, y)\n",
    "# Labels and Legend\n",
    "plt.xlabel('Exam 1 score')\n",
    "plt.ylabel('Exam 2 score')\n",
    "plt.xlim([30, 100])\n",
    "plt.ylim([30, 100])\n",
    "plt.legend(['Admitted', 'Not admitted'], loc='upper right', numpoints=1)\n",
    "plt.show()"
   ]
  },
  {
   "cell_type": "markdown",
   "metadata": {},
   "source": [
    "## Part 2: Compute Cost and Gradient"
   ]
  },
  {
   "cell_type": "markdown",
   "metadata": {},
   "source": [
    "Initialize training parameters as follows:"
   ]
  },
  {
   "cell_type": "code",
   "execution_count": 4,
   "metadata": {
    "collapsed": true
   },
   "outputs": [],
   "source": [
    "# Setup the data matrix appropriately, and add ones for the intercept term\n",
    "m, n = X.shape\n",
    "# Add intercept term to x and X_test\n",
    "X = np.hstack((np.ones((m, 1)), X))\n",
    "# Initialize fitting parameters\n",
    "theta = np.zeros(n + 1)  # Initialize fitting parameters"
   ]
  },
  {
   "cell_type": "markdown",
   "metadata": {},
   "source": [
    "To compute the cost, we need to implement the sigmoid function first."
   ]
  },
  {
   "cell_type": "code",
   "execution_count": 5,
   "metadata": {
    "collapsed": true
   },
   "outputs": [],
   "source": [
    "def sigmoid(z):\n",
    "    \"\"\"\n",
    "    Compute sigmoid function.\n",
    "\n",
    "    Parameters\n",
    "    ----------\n",
    "    z : array-like\n",
    "        Variable for sigmoid function.\n",
    "\n",
    "    Returns\n",
    "    -------\n",
    "    ndarray\n",
    "        The sigmoid of each value of z.\n",
    "    \"\"\"\n",
    "    g = 1 / (1 + np.exp(-z))\n",
    "    return g"
   ]
  },
  {
   "cell_type": "markdown",
   "metadata": {},
   "source": [
    "The `cost_function()` computes the cost and gradient for logistic regression."
   ]
  },
  {
   "cell_type": "code",
   "execution_count": 6,
   "metadata": {
    "collapsed": false
   },
   "outputs": [],
   "source": [
    "def cost_function(theta, X, y):\n",
    "    \"\"\"\n",
    "    Compute cost and gradient for logistic regression.\n",
    "\n",
    "    Parameters\n",
    "    ----------\n",
    "    theta : ndarray, shape (n_features,)\n",
    "        Linear regression parameter.\n",
    "    X : ndarray, shape (n_samples, n_features)\n",
    "        Training data, where n_samples is the number of samples and n_features is the number of features.\n",
    "    y : ndarray, shape (n_samples,)\n",
    "        Labels.\n",
    "\n",
    "    Returns\n",
    "    -------\n",
    "    J : numpy.float64\n",
    "        The cost of using theta as the parameter for linear regression to fit the data points in x and y.\n",
    "    grad: ndarray, shape (n_features,)\n",
    "        The gradient of the cost w.r.t. the parameters.\n",
    "    \"\"\"\n",
    "    m, n = X.shape\n",
    "    x_dot_theta = X.dot(theta)\n",
    "\n",
    "    J = 1.0 / m * (-y.T.dot(np.log(sigmoid(x_dot_theta))) - (1 - y).T.dot(np.log(1 - sigmoid(x_dot_theta))))\n",
    "\n",
    "    grad = 1.0 / m * (sigmoid(x_dot_theta) - y).T.dot(X)\n",
    "\n",
    "    return J, grad"
   ]
  },
  {
   "cell_type": "markdown",
   "metadata": {},
   "source": [
    "Test the `cost_function()` on initial values:"
   ]
  },
  {
   "cell_type": "code",
   "execution_count": 7,
   "metadata": {
    "collapsed": false
   },
   "outputs": [
    {
     "name": "stdout",
     "output_type": "stream",
     "text": [
      "Cost at initial theta (zeros): 0.69314718056\n",
      "Gradient at initial theta (zeros): [ -0.1        -12.00921659 -11.26284221]\n"
     ]
    }
   ],
   "source": [
    "cost, grad = cost_function(theta, X, y)\n",
    "\n",
    "print('Cost at initial theta (zeros):', cost)\n",
    "print('Gradient at initial theta (zeros):', grad)"
   ]
  },
  {
   "cell_type": "markdown",
   "metadata": {},
   "source": [
    "## Part 3: Optimizing using `fmin_tnc()`"
   ]
  },
  {
   "cell_type": "markdown",
   "metadata": {},
   "source": [
    "Train the model with `fin_tnc()`:"
   ]
  },
  {
   "cell_type": "code",
   "execution_count": 8,
   "metadata": {
    "collapsed": false
   },
   "outputs": [
    {
     "name": "stdout",
     "output_type": "stream",
     "text": [
      "Cost at theta found by fminunc: 0.203497701589\n",
      "theta: [-25.1613187    0.20623159   0.20147149]\n"
     ]
    }
   ],
   "source": [
    "import scipy.optimize as opt\n",
    "\n",
    "\n",
    "theta, nfeval, rc = opt.fmin_tnc(func=cost_function, x0=theta, args=(X, y))\n",
    "\n",
    "cost, _ = cost_function(theta, X, y)\n",
    "print('Cost at theta found by fminunc:', cost)\n",
    "print('theta:', theta)"
   ]
  },
  {
   "cell_type": "markdown",
   "metadata": {},
   "source": [
    "Plot the boundary:"
   ]
  },
  {
   "cell_type": "code",
   "execution_count": 9,
   "metadata": {
    "collapsed": false
   },
   "outputs": [
    {
     "data": {
      "image/png": "[encoded data removed]",
      "text/plain": [
       "<matplotlib.figure.Figure at 0x10ccc2390>"
      ]
     },
     "metadata": {},
     "output_type": "display_data"
    }
   ],
   "source": [
    "from plot_decision_boundary import plot_decision_boundary\n",
    "\n",
    "\n",
    "plt.figure()\n",
    "plot_data(X[:, 1:], y)\n",
    "plt.xlabel('Exam 1 score')\n",
    "plt.ylabel('Exam 2 score')\n",
    "plt.xlim([30, 100])\n",
    "plt.ylim([30, 100])\n",
    "plt.legend(['Admitted', 'Not admitted'], loc='upper right', numpoints=1)\n",
    "\n",
    "# Plot Boundary\n",
    "plot_decision_boundary(theta, X, y)\n",
    "plt.show()"
   ]
  },
  {
   "cell_type": "markdown",
   "metadata": {},
   "source": [
    "## Part 4: Predict and Accuracies\n"
   ]
  },
  {
   "cell_type": "markdown",
   "metadata": {},
   "source": [
    "Predict probability for a student with score 45 on exam 1 and score 85 on exam 2: "
   ]
  },
  {
   "cell_type": "code",
   "execution_count": 10,
   "metadata": {
    "collapsed": false
   },
   "outputs": [
    {
     "name": "stdout",
     "output_type": "stream",
     "text": [
      "For a student with scores 45 and 85, we predict an admission probability of 0.77629062453\n"
     ]
    }
   ],
   "source": [
    "prob = sigmoid(np.dot(np.array([1, 45, 85]), theta))\n",
    "print('For a student with scores 45 and 85, we predict an admission probability of', prob)"
   ]
  },
  {
   "cell_type": "markdown",
   "metadata": {},
   "source": [
    "The `predict()` predicts the input data with learned logistic regression parameters."
   ]
  },
  {
   "cell_type": "code",
   "execution_count": 11,
   "metadata": {
    "collapsed": true
   },
   "outputs": [],
   "source": [
    "def predict(theta, X):\n",
    "    \"\"\"\n",
    "    Predict whether the label is 0 or 1 using learned logistic regression parameters theta.\n",
    "\n",
    "    Parameters\n",
    "    ----------\n",
    "    theta : ndarray, shape (n_features,)\n",
    "        Linear regression parameter.\n",
    "    X : ndarray, shape (n_samples, n_features)\n",
    "        Training data, where n_samples is the number of samples and n_features is the number of features.\n",
    "\n",
    "    Returns\n",
    "    -------\n",
    "    ndarray, shape (n_samples,)\n",
    "        The predictions for X using a threshold at 0.5.\n",
    "    \"\"\"\n",
    "    p = sigmoid(X.dot(theta)) >= 0.5\n",
    "    return p.astype(int)"
   ]
  },
  {
   "cell_type": "markdown",
   "metadata": {},
   "source": [
    "Compute accuracy on our training set: "
   ]
  },
  {
   "cell_type": "code",
   "execution_count": 12,
   "metadata": {
    "collapsed": false
   },
   "outputs": [
    {
     "name": "stdout",
     "output_type": "stream",
     "text": [
      "Train Accuracy: 89.0\n"
     ]
    }
   ],
   "source": [
    "p = predict(theta, X)\n",
    "print('Train Accuracy:', np.mean(p == y) * 100)"
   ]
  }
 ],
 "metadata": {
  "anaconda-cloud": {},
  "kernelspec": {
   "display_name": "Python 3",
   "language": "python",
   "name": "python3"
  },
  "language_info": {
   "codemirror_mode": {
    "name": "ipython",
    "version": 3
   },
   "file_extension": ".py",
   "mimetype": "text/x-python",
   "name": "python",
   "nbconvert_exporter": "python",
   "pygments_lexer": "ipython3",
   "version": "3.11.0rc1"
  }
 },
 "nbformat": 4,
 "nbformat_minor": 0
}
